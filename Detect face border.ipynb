{
 "cells": [
  {
   "cell_type": "code",
   "execution_count": 9,
   "metadata": {},
   "outputs": [],
   "source": [
    "import cv2"
   ]
  },
  {
   "cell_type": "code",
   "execution_count": 38,
   "metadata": {},
   "outputs": [],
   "source": [
    "def detect(path):\n",
    "    img = cv2.imread(path)\n",
    "    \n",
    "    #cascade = cv2.CascadeClassifier(\"/vagrant/detect/haarcascade_frontalface_alt.xml\")\n",
    "                                    #error: (-215:Assertion failed)\n",
    "                                    #The XML or file is missing or the path to it is incorrect \n",
    "                                    #OpenCV already contains many pre-trained classifiers for face, eyes, smile etc. \n",
    "                                    #Those XML files are stored in opencv/data/haarcascades/ folder.\n",
    "        \n",
    "    \n",
    "    \n",
    "    \n",
    "    #rects = cascade.detectMultiScale(img, 1.3, 4, cv2.cv.CV_HAAR_SCALE_IMAGE, (20,20)) \n",
    "                    #detectMultiScale(image, rejectLevels, levelWeights)\n",
    "                    #The latest openCV no longer allows importing the legacy cv module\n",
    "                    #cv2.CASCADE_SCALE_IMAGE\n",
    "                \n",
    "    cascade = cv2.CascadeClassifier(\"D:/opencv/data/haarcascades/haarcascade_frontalface_alt.xml\")\n",
    "    rects = cascade.detectMultiScale(img, 1.3, 4,cv2.CASCADE_SCALE_IMAGE, (20,20)) \n",
    "    if len(rects) == 0:\n",
    "        return [], img\n",
    "    rects[:, 2:] += rects[:, :2]\n",
    "    return rects, img\n",
    "\n",
    "def box(rects, img):\n",
    "\n",
    "    data = []\n",
    "    for x1, y1, x2, y2 in rects:\n",
    "        cv2.rectangle(img, (x1, y1), (x2, y2), (127, 255, 0), 2)\n",
    "        #cv2.rectangle(image, start_point, end_point, color, thickness)\n",
    "        \n",
    "        height = y2-y1\n",
    "        width = x2-x1\n",
    "        \n",
    "        data.append((height,width))\n",
    "       \n",
    "    cv2.imwrite('detected.jpg', img);\n",
    "    #cv2.imwrite(filename, image)\n",
    "    return data\n",
    "\n",
    "\n"
   ]
  },
  {
   "cell_type": "code",
   "execution_count": 39,
   "metadata": {},
   "outputs": [
    {
     "name": "stdout",
     "output_type": "stream",
     "text": [
      "[(96, 96), (108, 108), (111, 111), (98, 98), (100, 100), (101, 101), (95, 95), (105, 105), (102, 102), (100, 100), (112, 112), (98, 98), (103, 103), (103, 103)]\n"
     ]
    }
   ],
   "source": [
    "rects, img = detect(\"faces.jpg\")\n",
    "d =box(rects, img)\n",
    "print(d)"
   ]
  },
  {
   "cell_type": "code",
   "execution_count": null,
   "metadata": {},
   "outputs": [],
   "source": []
  }
 ],
 "metadata": {
  "kernelspec": {
   "display_name": "Python 3",
   "language": "python",
   "name": "python3"
  },
  "language_info": {
   "codemirror_mode": {
    "name": "ipython",
    "version": 3
   },
   "file_extension": ".py",
   "mimetype": "text/x-python",
   "name": "python",
   "nbconvert_exporter": "python",
   "pygments_lexer": "ipython3",
   "version": "3.7.4"
  }
 },
 "nbformat": 4,
 "nbformat_minor": 2
}
